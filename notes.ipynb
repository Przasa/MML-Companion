{
 "cells": [
  {
   "cell_type": "markdown",
   "metadata": {},
   "source": [
    "# 1. Komendy"
   ]
  },
  {
   "cell_type": "markdown",
   "metadata": {},
   "source": [
    "sns.kdeplot(data[:,0], data[:,1],n_levels=10, cmap=\"viridis_r\", ax = ax3, bw = 1) \n",
    "\n",
    "sns.distplot(data[:,0], ax = ax1, bins = bins)\n",
    "\n",
    "plt.quiver(*[B,0],*[0,A], scale = scale, width = .01,  color = \"cornflowerblue\", label = r\"A: $\\sqrt{var[x]}$\")\n",
    "\n",
    "\n",
    "Matrix(np.corrcoef(A[:,0],A[:,1]))\n",
    "\n",
    "np.std()\n",
    "np.mean()\n",
    "np.var()\n",
    "np.cov()\n",
    "np.linalg.norm()\n",
    "- <code> gauss = lambda x,m,t: (1/(np.sqrt(2*np.pi*t**2)))*np.exp(-(x-m)**2/(2*t**2))</code>\n",
    "- <code>plt.hist(currData[:,0],50) </code> -> juz gotowe\n",
    "- <code>p.einsum('...k,kl,...l->...', pos-m, Sinv, pos-m) </code> -> einstein sum\n",
    "- <code>ax = fig.add_subplot(gs[1,0], projection='3d')</code>\n",
    "- <code>plt.plot(x,stats.norm.pdf(x,meanX,np.sqrt(cov[:,0][0])), c = \"k\", lw = 3);</code>\n",
    "- <code>X,Y = np.meshgrid(linspace,linspace)</code> - Przydaje sie do plaszczyzn ciaglych"
   ]
  },
  {
   "cell_type": "markdown",
   "metadata": {},
   "source": [
    "# 2. Notatki\n",
    "\n",
    "1. events -> event space:               p,d,d,d,p,d,p,p... -> [p d] \n",
    "2. event space -> sample space:         [d p] ->  [dp pd dd pp]\n",
    "3. sample space -> random variable:     [pp dp pd dd] -> [2 1 1 0] \n",
    "4. random variable  -> target space=    [2 1 1 0] -> [2 1 0]\n",
    "5. random variable -> probability fun.: [2 1 1 0] -> [0.09 0.21 0.21 0.14] -> [0.9 0.42 0.14]\n",
    "\n",
    "- rozne rodzaje wariancji -> rospisac i rozroznic. (Definition 6.9)\n",
    "<br>standard v., raw-score v.,pairwise difference v.\n",
    "- macierz kowariancji (co jest czym) (6.4.4)\n",
    "-> jak warancje, tylko zamiast mnozyc X*X, jest X*Y\n",
    "-> jest kilka ssposob -rozpicsz\n",
    "\n",
    "- macierze korelacji \n",
    "$\\rho_{X,Y}=\\frac{cov(X,Y)}{\\sqrt{\\sigma(X)\\sigma(Y)}}$\n",
    " \n",
    "- independence (Def. 6.10) \n",
    "<br>- gdy p(x,y) = p(x)*(py) \n",
    "<br>- gdy P(A|B)=P(A) \n",
    "<br>- covariance = np.mean(XY)-nmean(X)*np.mean(Y)\n",
    "<br>-Inpdependent and identically discibuted\n",
    "<br>-conditional independence ((Def. 6.11)<br>\n",
    "$X \\perp \\!\\!\\! \\perp  Y | Z$ given $Z$, iff $p(x,y|z) = p(x|z)p(y|z)  \\forall  z  \\in Z$  where Z is the set of states of random variable Z\n",
    "<br>-jeszcze doczytaj te rzeczy\n",
    "\n",
    "- Gaussian distribution\n",
    "<br>- podzial na pdf i inne\n",
    "<br>- multivar gaus -> einstein sum\n",
    "- podsumowujac:\n",
    "<br>-wariancja, covariancja, corelacja\n"
   ]
  },
  {
   "cell_type": "code",
   "execution_count": null,
   "metadata": {},
   "outputs": [],
   "source": []
  },
  {
   "cell_type": "code",
   "execution_count": null,
   "metadata": {},
   "outputs": [],
   "source": []
  },
  {
   "cell_type": "markdown",
   "metadata": {},
   "source": [
    "Univariate Gaussian equation:\n",
    "$$\n",
    "\\ y_{u,\\sigma}(x)=\\frac{1}{\\sigma \\sqrt{2\\pi}}exp^{\\frac{-(x-u)^2}{2\\sigma^2}}\n",
    "$$\n",
    "$$\n",
    "y=\\frac{1}{\\sqrt{2\\pi t^2}}e^{\\frac{-(x-m)^2}{2t^2}}\n",
    "$$\n",
    "\n",
    "Given the multivariate Gaussian equation,\n",
    "$$\n",
    "p(x|\\mu,\\sigma^2) = \\frac{e^{\\frac{1}{2}(x-\\mu)^T\\Sigma^{-1}(x-\\mu)}}{\\sqrt{(2\\pi)^D |\\Sigma|}}\n",
    "$$"
   ]
  }
 ],
 "metadata": {
  "interpreter": {
   "hash": "3488179ac54589ca113956bfe5cda6dcafc465e91e021d48360fa568122ff6d9"
  },
  "kernelspec": {
   "display_name": "Python 3.7.0 64-bit ('mlenv': venv)",
   "name": "python3"
  },
  "language_info": {
   "codemirror_mode": {
    "name": "ipython",
    "version": 3
   },
   "file_extension": ".py",
   "mimetype": "text/x-python",
   "name": "python",
   "nbconvert_exporter": "python",
   "pygments_lexer": "ipython3",
   "version": "3.7.0"
  },
  "orig_nbformat": 4
 },
 "nbformat": 4,
 "nbformat_minor": 2
}

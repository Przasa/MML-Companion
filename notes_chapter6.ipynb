{
 "cells": [
  {
   "cell_type": "markdown",
   "metadata": {},
   "source": [
    "# 1. Komendy"
   ]
  },
  {
   "cell_type": "markdown",
   "metadata": {},
   "source": [
    "sns.kdeplot(data[:,0], data[:,1],n_levels=10, cmap=\"viridis_r\", ax = ax3, bw = 1) \n",
    "\n",
    "sns.distplot(data[:,0], ax = ax1, bins = bins)\n",
    "\n",
    "plt.quiver(*[B,0],*[0,A], scale = scale, width = .01,  color = \"cornflowerblue\", label = r\"A: $\\sqrt{var[x]}$\")\n",
    "\n",
    "\n",
    "Matrix(np.corrcoef(A[:,0],A[:,1]))\n",
    "\n",
    "<code>np.intertools.product(range(12),range(7))</code>\n",
    "\n",
    "np.std()\n",
    "np.mean()\n",
    "np.var()\n",
    "np.cov()\n",
    "np.linalg.norm()\n",
    "- <code> gauss = lambda x,m,t: (1/(np.sqrt(2*np.pi*t**2)))*np.exp(-(x-m)**2/(2*t**2))</code>\n",
    "- <code>plt.hist(currData[:,0],50) </code> -> juz gotowe\n",
    "- <code>p.einsum('...k,kl,...l->...', pos-m, Sinv, pos-m) </code> -> einstein sum\n",
    "- <code>ax = fig.add_subplot(gs[1,0], projection='3d')</code>\n",
    "- <code>plt.plot(x,stats.norm.pdf(x,meanX,np.sqrt(cov[:,0][0])), c = \"k\", lw = 3);</code>\n",
    "- <code>X,Y = np.meshgrid(linspace,linspace)</code> - Przydaje sie do plaszczyzn ciaglych\n",
    "- <code>ax.contour3D(X,Y,Z, levels = 100, alpha = .2, cmap = \"binary_r\")\n",
    "<br>ax.contour(X,Y,Z, levels = 50, zdir='x')</code>\n",
    "<br>rysowanie kontorow bez kdplota\n",
    "- <code>Yevents = np.vstack(np.unique(events[:,1],return_counts=True)).T\n",
    "<br>Xevents = np.hstack([Xevents,np.vstack([i/sum(Xevents[:,1]) for i in Xevents[:,1]])]) </code>\n",
    "- <code>ys = stats.norm.pdf(x,mu,var)</code>\n",
    "- <code> [plt.bar(x,binom.pmf(x,N,means[i]), alpha = .5) for i in range(0,3)] </code> --> kilka rodzajow barow na jednym bar-charcie"
   ]
  },
  {
   "cell_type": "code",
   "execution_count": null,
   "metadata": {},
   "outputs": [],
   "source": []
  },
  {
   "cell_type": "markdown",
   "metadata": {},
   "source": [
    "# 2. Notatki\n",
    "\n",
    "1. events -> event space:               p,d,d,d,p,d,p,p... -> [p d] \n",
    "2. event space -> sample space:         [d p] ->  [dp pd dd pp]\n",
    "3. sample space -> random variable:     [pp dp pd dd] -> [2 1 1 0] \n",
    "4. random variable  -> target space=    [2 1 1 0] -> [2 1 0]\n",
    "5. random variable -> probability fun.: [2 1 1 0] -> [0.09 0.21 0.21 0.14] -> [0.9 0.42 0.14]\n",
    "\n",
    "- rozne rodzaje wariancji -> rospisac i rozroznic. (Definition 6.9)\n",
    "<br>standard v., raw-score v.,pairwise difference v.\n",
    "- macierz kowariancji (co jest czym) (6.4.4)\n",
    "-> jak warancje, tylko zamiast mnozyc X*X, jest X*Y\n",
    "-> jest kilka ssposob -rozpicsz\n",
    "\n",
    "- macierze korelacji \n",
    "$\\rho_{X,Y}=\\frac{cov(X,Y)}{\\sqrt{\\sigma(X)\\sigma(Y)}}$\n",
    " \n",
    "- independence (Def. 6.10) \n",
    "<br>- gdy p(x,y) = p(x)*(py) \n",
    "<br>- gdy P(A|B)=P(A) \n",
    "<br>- covariance = np.mean(XY)-nmean(X)*np.mean(Y)\n",
    "<br>-Inpdependent and identically discibuted\n",
    "<br>-conditional independence ((Def. 6.11)<br>\n",
    "$X \\perp \\!\\!\\! \\perp  Y | Z$ given $Z$, iff $p(x,y|z) = p(x|z)p(y|z)  \\forall  z  \\in Z$  where Z is the set of states of random variable Z\n",
    "<br>-jeszcze doczytaj te rzeczy\n",
    "\n",
    "- Gaussian distribution\n",
    "<br>- podzial na pdf i inne\n",
    "<br>- multivar gaus -> einstein sum\n",
    "- podsumowujac:\n",
    "<br>-wariancja, covariancja, corelacja\n"
   ]
  },
  {
   "cell_type": "markdown",
   "metadata": {},
   "source": [
    "- Marginals and Conditionals of Gaussians (are gaussians)\n",
    "<br>-odrotnosc z wariancji to tez odwrotnosc z homocovariancji?...\n",
    "<br>-to jeszcze troche doczytaj\n",
    "<br>*(a) Bivariate Gaussian;  <br>(b) marginal of a joint Gaussian distribution is Gaussian; <br>(c) the conditional distribution of a Gaussian is also Gaussian.*"
   ]
  },
  {
   "cell_type": "markdown",
   "metadata": {},
   "source": [
    "- Conjugacy and the exponential Family\n",
    "<br>-Bernoulli Distribution\n",
    "<br>-Binomial Distribution\n",
    "<br>-Beta Distribution\n",
    "<br>-Beta-Binomial Binomial Conjugacy\n",
    "<br>-Beta Bernouli Conjugacy\n",
    "<br>\n",
    "<code>\n",
    "<br>scipy.stats.binom.ppf(0.01,N,means[0])\n",
    "<br>scipy.stats.beta.pdf(xs,ab[0][0],ab[0][1])</code>\n",
    "<br>*sprawdz parametry do tego*\n",
    "<br><br> Bernoulli<br>\n",
    "$$\n",
    "p(x|\\mu) = \\mu^x(1-\\mu)^{1-x};\n",
    "\\newline \\mathbb{E}[x] = \\mu, \\mathbb{V}[x] = \\mu(1-\\mu)\n",
    "$$\n",
    "<br>Binomial<br>\n",
    "$$\n",
    "p(m|N,\\mu) = {N\\choose m}\\mu^m(1-\\mu)^{N-m}\n",
    "\\newline \\mathbb{E}[m] = N\\mu, \\mathbb{V}[m] = N\\mu(1-\\mu)\n",
    "$$"
   ]
  },
  {
   "cell_type": "markdown",
   "metadata": {},
   "source": [
    "- Change of Variables/Inverse Transfrom\n",
    "<br>-Distribution Function Technique\n",
    "<br>-Change of Variables Technique\n",
    "<code>\n",
    "<br>x = Symbol('x');  f = 3*x**2\n",
    "<br>fLam = lambdify('x',f) \n",
    "<br>diff(Fy)\n",
    "</code>"
   ]
  },
  {
   "cell_type": "markdown",
   "metadata": {},
   "source": [
    "<font color='red'>Wez te notatki jako zbierz:</font>\n"
   ]
  },
  {
   "cell_type": "markdown",
   "metadata": {},
   "source": [
    "1. Aditional resources:\n",
    "<a href=http://www.zstatistics.com/videos#/distributions>ZED Statistic</a>"
   ]
  },
  {
   "cell_type": "markdown",
   "metadata": {},
   "source": [
    "Univariate Gaussian equation:\n",
    "$$\n",
    "\\ y_{u,\\sigma}(x)=\\frac{1}{\\sigma \\sqrt{2\\pi}}exp^{\\frac{-(x-u)^2}{2\\sigma^2}}\n",
    "$$\n",
    "$$\n",
    "y=\\frac{1}{\\sqrt{2\\pi t^2}}e^{\\frac{-(x-m)^2}{2t^2}}\n",
    "$$\n",
    "\n",
    "Given the multivariate Gaussian equation,\n",
    "$$\n",
    "p(x|\\mu,\\sigma^2) = \\frac{e^{\\frac{1}{2}(x-\\mu)^T\\Sigma^{-1}(x-\\mu)}}{\\sqrt{(2\\pi)^D |\\Sigma|}}\n",
    "$$"
   ]
  },
  {
   "cell_type": "markdown",
   "metadata": {},
   "source": [
    "$$\n",
    "p(x|y) = N(\\mu_{x|y},\\Sigma_{x|y}) \\\\\n",
    "\\mu_{x|y} = \\mu_x + \\Sigma_{xy}\\Sigma^{-1}_{yy}(y-\\mu_y) \\\\\n",
    "\\Sigma_{x|y} = \\Sigma_{xx} - \\Sigma_{xy}\\Sigma_{yy}^{-1}\\Sigma_{yx}\n",
    "$$"
   ]
  },
  {
   "cell_type": "markdown",
   "metadata": {},
   "source": [
    "# 3. Exercieses\n",
    "\n",
    "\n"
   ]
  },
  {
   "cell_type": "markdown",
   "metadata": {},
   "source": []
  },
  {
   "cell_type": "code",
   "execution_count": 99,
   "metadata": {},
   "outputs": [
    {
     "name": "stdout",
     "output_type": "stream",
     "text": [
      "[[0.01 0.02 0.03 0.1  0.1 ]\n",
      " [0.05 0.1  0.05 0.07 0.2 ]\n",
      " [0.1  0.05 0.03 0.05 0.04]]\n",
      "[[0.03846154 0.07692308 0.11538462 0.38461538 0.38461538]\n",
      " [0.10638298 0.21276596 0.10638298 0.14893617 0.42553191]\n",
      " [0.37037037 0.18518519 0.11111111 0.18518519 0.14814815]]\n",
      "[[0.03846154 0.07692308 0.11538462 0.38461538 0.38461538]\n",
      " [0.10638298 0.21276596 0.10638298 0.14893617 0.42553191]\n",
      " [0.37037037 0.18518519 0.11111111 0.18518519 0.14814815]]\n",
      "[[0.0625     0.11764706 0.27272727 0.45454545 0.29411765]\n",
      " [0.3125     0.58823529 0.45454545 0.31818182 0.58823529]\n",
      " [0.625      0.29411765 0.27272727 0.22727273 0.11764706]]\n",
      "[[0.0625     0.11764706 0.27272727 0.45454545 0.29411765]\n",
      " [0.3125     0.58823529 0.45454545 0.31818182 0.58823529]\n",
      " [0.625      0.29411765 0.27272727 0.22727273 0.11764706]]\n"
     ]
    }
   ],
   "source": [
    "# 1. Conditional Vs Marginal probability\n",
    "\n",
    "import numpy as np\n",
    "import itertools\n",
    "import pandas\n",
    "\n",
    "BD=np.array(\n",
    "    [[0.01, 0.02, 0.03, 0.1, 0.1],\n",
    "    [0.05, 0.1, 0.05, 0.07, 0.2],\n",
    "    [0.1, 0.05, 0.03, 0.05, 0.04]])\n",
    "# BDdf=pandas.DataFrame(data=BD,columns=['A,B,C,D,E'])\n",
    "\n",
    "print(BD)\n",
    "\n",
    "# marginal probability -> suma calego wierszaLUBcolumny / wszystkie sample -> podzbior / caly zbior\n",
    "Px=[np.sum(BD[:,i])/BD.size for i in np.arange(BD.shape[1])]    # suma kolumn/N\n",
    "Py=[np.sum(BD[i,:])/BD.size for i in np.arange(BD.shape[0])]    # suma wiersza/N\n",
    "\n",
    "# conditional probability  ->  sampl / podzbior (* podzbior dotyczy warunku) -> sample / suma wierwsza/columny  \n",
    "Pxoy=np.zeros(shape=BD.shape)\n",
    "Pyox=np.zeros(shape=BD.shape)\n",
    "for i,j in itertools.product( range(BD.shape[0]) , range(BD.shape[1]) ):\n",
    "    Pxoy[i,j]=BD[i,j]/np.sum(BD[i,:])   # sampl/suma wiersza\n",
    "    Pyox[i,j]=BD[i,j]/np.sum(BD[:,j])      # sampl/suma kolumny\n",
    "Pxoy,Pyox\n",
    "\n",
    "\n",
    "# test = [[(i+1)*(j+1) for j in range(5)] for i in range(4)]\n",
    "# print(test)\n",
    "\n",
    "# alternatywnie\n",
    "Pxoy2=np.array([[j/np.sum(BD[i,:]) for j in BD[i,:]] for i in range(BD.shape[0])])\n",
    "Pyox2=np.array([[j/np.sum(BD[:,i]) for j in BD[:,i]] for i in range(BD.shape[1])]).T\n",
    "\n",
    "print(Pxoy)\n",
    "print(Pxoy2)\n",
    "print(Pyox)\n",
    "print(Pyox2)\n"
   ]
  },
  {
   "cell_type": "code",
   "execution_count": null,
   "metadata": {},
   "outputs": [],
   "source": [
    "# 2. "
   ]
  }
 ],
 "metadata": {
  "interpreter": {
   "hash": "3488179ac54589ca113956bfe5cda6dcafc465e91e021d48360fa568122ff6d9"
  },
  "kernelspec": {
   "display_name": "Python 3.7.0 64-bit ('mlenv': venv)",
   "name": "python3"
  },
  "language_info": {
   "codemirror_mode": {
    "name": "ipython",
    "version": 3
   },
   "file_extension": ".py",
   "mimetype": "text/x-python",
   "name": "python",
   "nbconvert_exporter": "python",
   "pygments_lexer": "ipython3",
   "version": "3.7.0"
  },
  "orig_nbformat": 4
 },
 "nbformat": 4,
 "nbformat_minor": 2
}
